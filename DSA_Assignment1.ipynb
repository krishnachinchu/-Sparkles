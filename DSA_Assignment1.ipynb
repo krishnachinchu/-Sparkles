{
 "cells": [
  {
   "cell_type": "markdown",
   "id": "781fd592",
   "metadata": {},
   "source": [
    "# 1.Read the data set into python environment"
   ]
  },
  {
   "cell_type": "code",
   "execution_count": 33,
   "id": "35be62e1",
   "metadata": {},
   "outputs": [],
   "source": [
    "# Importing Pandas Library as 'pd'\n",
    "import pandas as pd\n",
    "# Importing NumPy Library as 'np'\n",
    "import numpy as np\n",
    "# Importing Matplot's Sub Library PyPlot as 'plt'\n",
    "import matplotlib.pyplot as plt\n",
    "# Importing seaborn Library as 'sns'\n",
    "import seaborn as sns"
   ]
  },
  {
   "cell_type": "code",
   "execution_count": 34,
   "id": "5277faff",
   "metadata": {},
   "outputs": [],
   "source": [
    "# Getting data from Local CSV File and copying into auto_data Datafram\n",
    "auto_data=pd.read_csv"
   ]
  },
  {
   "cell_type": "code",
   "execution_count": 35,
   "id": "fb9e5c1e",
   "metadata": {},
   "outputs": [],
   "source": [
    "# Getting data from Local Excel File and copying into iris_data Datafram\n",
    "iris_data=pd.read_excel('iris.xls')"
   ]
  },
  {
   "cell_type": "code",
   "execution_count": 36,
   "id": "8add0f44",
   "metadata": {},
   "outputs": [
    {
     "data": {
      "text/html": [
       "<div>\n",
       "<style scoped>\n",
       "    .dataframe tbody tr th:only-of-type {\n",
       "        vertical-align: middle;\n",
       "    }\n",
       "\n",
       "    .dataframe tbody tr th {\n",
       "        vertical-align: top;\n",
       "    }\n",
       "\n",
       "    .dataframe thead th {\n",
       "        text-align: right;\n",
       "    }\n",
       "</style>\n",
       "<table border=\"1\" class=\"dataframe\">\n",
       "  <thead>\n",
       "    <tr style=\"text-align: right;\">\n",
       "      <th></th>\n",
       "      <th>SL</th>\n",
       "      <th>SW</th>\n",
       "      <th>PL</th>\n",
       "      <th>PW</th>\n",
       "      <th>Classification</th>\n",
       "    </tr>\n",
       "  </thead>\n",
       "  <tbody>\n",
       "    <tr>\n",
       "      <th>0</th>\n",
       "      <td>5.1</td>\n",
       "      <td>3.5</td>\n",
       "      <td>1.4</td>\n",
       "      <td>0.2</td>\n",
       "      <td>Iris-setosa</td>\n",
       "    </tr>\n",
       "    <tr>\n",
       "      <th>1</th>\n",
       "      <td>4.9</td>\n",
       "      <td>3.0</td>\n",
       "      <td>1.4</td>\n",
       "      <td>0.2</td>\n",
       "      <td>Iris-setosa</td>\n",
       "    </tr>\n",
       "    <tr>\n",
       "      <th>2</th>\n",
       "      <td>4.7</td>\n",
       "      <td>3.2</td>\n",
       "      <td>1.3</td>\n",
       "      <td>0.2</td>\n",
       "      <td>Iris-setosa</td>\n",
       "    </tr>\n",
       "    <tr>\n",
       "      <th>3</th>\n",
       "      <td>4.6</td>\n",
       "      <td>3.1</td>\n",
       "      <td>1.5</td>\n",
       "      <td>0.2</td>\n",
       "      <td>Iris-setosa</td>\n",
       "    </tr>\n",
       "    <tr>\n",
       "      <th>4</th>\n",
       "      <td>5.0</td>\n",
       "      <td>3.6</td>\n",
       "      <td>1.4</td>\n",
       "      <td>0.2</td>\n",
       "      <td>Iris-setosa</td>\n",
       "    </tr>\n",
       "  </tbody>\n",
       "</table>\n",
       "</div>"
      ],
      "text/plain": [
       "    SL   SW   PL   PW Classification\n",
       "0  5.1  3.5  1.4  0.2    Iris-setosa\n",
       "1  4.9  3.0  1.4  0.2    Iris-setosa\n",
       "2  4.7  3.2  1.3  0.2    Iris-setosa\n",
       "3  4.6  3.1  1.5  0.2    Iris-setosa\n",
       "4  5.0  3.6  1.4  0.2    Iris-setosa"
      ]
     },
     "execution_count": 36,
     "metadata": {},
     "output_type": "execute_result"
    }
   ],
   "source": [
    "# Getting data of dataframe iris_data\n",
    "iris_data.head()"
   ]
  },
  {
   "cell_type": "markdown",
   "id": "7f9d0c51",
   "metadata": {},
   "source": [
    "# 2. Display the columns in the dataset."
   ]
  },
  {
   "cell_type": "code",
   "execution_count": 37,
   "id": "87c0c6e3",
   "metadata": {},
   "outputs": [
    {
     "data": {
      "text/plain": [
       "Index(['SL', 'SW', 'PL', 'PW', 'Classification'], dtype='object')"
      ]
     },
     "execution_count": 37,
     "metadata": {},
     "output_type": "execute_result"
    }
   ],
   "source": [
    "# Getting columns of dataframe iris_data using .columns\n",
    "iris_data.columns"
   ]
  },
  {
   "cell_type": "markdown",
   "id": "999506b4",
   "metadata": {},
   "source": [
    "# 3. Calculate the mean of each column of the dataset"
   ]
  },
  {
   "cell_type": "code",
   "execution_count": 32,
   "id": "f64d740f",
   "metadata": {},
   "outputs": [
    {
     "name": "stdout",
     "output_type": "stream",
     "text": [
      "The mean of each column in given dataset:\n",
      "The mean of column 'SL' is :  5.843333333333335\n",
      "The mean of column 'SW' is :  3.0540000000000007\n",
      "The mean of column 'PL' is :  3.7586666666666693\n",
      "The mean of column 'PW' is :  1.1986666666666672\n"
     ]
    }
   ],
   "source": [
    "print(\"The mean of each column in given dataset:\")\n",
    "print(\"The mean of column 'SL' is : \",iris_data['SL'].mean())\n",
    "print(\"The mean of column 'SW' is : \",iris_data['SW'].mean())\n",
    "print(\"The mean of column 'PL' is : \",iris_data['PL'].mean())\n",
    "print(\"The mean of column 'PW' is : \",iris_data['PW'].mean())"
   ]
  },
  {
   "cell_type": "markdown",
   "id": "2de87330",
   "metadata": {},
   "source": [
    "# 4. Check for the null values present in the dataset."
   ]
  },
  {
   "cell_type": "code",
   "execution_count": 42,
   "id": "734d0f22",
   "metadata": {},
   "outputs": [
    {
     "data": {
      "text/plain": [
       "0"
      ]
     },
     "execution_count": 42,
     "metadata": {},
     "output_type": "execute_result"
    }
   ],
   "source": [
    "#To knowing the sum of null value is pandas dataframe\n",
    "iris_data.isnull().sum().sum()"
   ]
  },
  {
   "cell_type": "code",
   "execution_count": 43,
   "id": "01a92199",
   "metadata": {},
   "outputs": [
    {
     "name": "stdout",
     "output_type": "stream",
     "text": [
      "Empty DataFrame\n",
      "Columns: [SL, SW, PL, PW, Classification]\n",
      "Index: []\n"
     ]
    }
   ],
   "source": [
    "#To find rows with NaN values in a pandas DataFrame in Python\n",
    "is_NaN = iris_data.isnull()\n",
    "row_has_NaN = is_NaN.any(axis=1)\n",
    "rows_with_NaN = iris_data[row_has_NaN]\n",
    "print(rows_with_NaN)"
   ]
  },
  {
   "cell_type": "code",
   "execution_count": 23,
   "id": "b1b348f4",
   "metadata": {},
   "outputs": [
    {
     "data": {
      "text/html": [
       "<div>\n",
       "<style scoped>\n",
       "    .dataframe tbody tr th:only-of-type {\n",
       "        vertical-align: middle;\n",
       "    }\n",
       "\n",
       "    .dataframe tbody tr th {\n",
       "        vertical-align: top;\n",
       "    }\n",
       "\n",
       "    .dataframe thead th {\n",
       "        text-align: right;\n",
       "    }\n",
       "</style>\n",
       "<table border=\"1\" class=\"dataframe\">\n",
       "  <thead>\n",
       "    <tr style=\"text-align: right;\">\n",
       "      <th></th>\n",
       "      <th>SL</th>\n",
       "      <th>SW</th>\n",
       "      <th>PL</th>\n",
       "      <th>PW</th>\n",
       "      <th>Classification</th>\n",
       "    </tr>\n",
       "  </thead>\n",
       "  <tbody>\n",
       "    <tr>\n",
       "      <th>0</th>\n",
       "      <td>NaN</td>\n",
       "      <td>NaN</td>\n",
       "      <td>NaN</td>\n",
       "      <td>NaN</td>\n",
       "      <td>NaN</td>\n",
       "    </tr>\n",
       "    <tr>\n",
       "      <th>1</th>\n",
       "      <td>NaN</td>\n",
       "      <td>NaN</td>\n",
       "      <td>NaN</td>\n",
       "      <td>NaN</td>\n",
       "      <td>NaN</td>\n",
       "    </tr>\n",
       "    <tr>\n",
       "      <th>2</th>\n",
       "      <td>NaN</td>\n",
       "      <td>NaN</td>\n",
       "      <td>NaN</td>\n",
       "      <td>NaN</td>\n",
       "      <td>NaN</td>\n",
       "    </tr>\n",
       "    <tr>\n",
       "      <th>3</th>\n",
       "      <td>NaN</td>\n",
       "      <td>NaN</td>\n",
       "      <td>NaN</td>\n",
       "      <td>NaN</td>\n",
       "      <td>NaN</td>\n",
       "    </tr>\n",
       "    <tr>\n",
       "      <th>4</th>\n",
       "      <td>NaN</td>\n",
       "      <td>NaN</td>\n",
       "      <td>NaN</td>\n",
       "      <td>NaN</td>\n",
       "      <td>NaN</td>\n",
       "    </tr>\n",
       "    <tr>\n",
       "      <th>...</th>\n",
       "      <td>...</td>\n",
       "      <td>...</td>\n",
       "      <td>...</td>\n",
       "      <td>...</td>\n",
       "      <td>...</td>\n",
       "    </tr>\n",
       "    <tr>\n",
       "      <th>145</th>\n",
       "      <td>NaN</td>\n",
       "      <td>NaN</td>\n",
       "      <td>NaN</td>\n",
       "      <td>NaN</td>\n",
       "      <td>NaN</td>\n",
       "    </tr>\n",
       "    <tr>\n",
       "      <th>146</th>\n",
       "      <td>NaN</td>\n",
       "      <td>NaN</td>\n",
       "      <td>NaN</td>\n",
       "      <td>NaN</td>\n",
       "      <td>NaN</td>\n",
       "    </tr>\n",
       "    <tr>\n",
       "      <th>147</th>\n",
       "      <td>NaN</td>\n",
       "      <td>NaN</td>\n",
       "      <td>NaN</td>\n",
       "      <td>NaN</td>\n",
       "      <td>NaN</td>\n",
       "    </tr>\n",
       "    <tr>\n",
       "      <th>148</th>\n",
       "      <td>NaN</td>\n",
       "      <td>NaN</td>\n",
       "      <td>NaN</td>\n",
       "      <td>NaN</td>\n",
       "      <td>NaN</td>\n",
       "    </tr>\n",
       "    <tr>\n",
       "      <th>149</th>\n",
       "      <td>NaN</td>\n",
       "      <td>NaN</td>\n",
       "      <td>NaN</td>\n",
       "      <td>NaN</td>\n",
       "      <td>NaN</td>\n",
       "    </tr>\n",
       "  </tbody>\n",
       "</table>\n",
       "<p>150 rows × 5 columns</p>\n",
       "</div>"
      ],
      "text/plain": [
       "     SL  SW  PL  PW Classification\n",
       "0   NaN NaN NaN NaN            NaN\n",
       "1   NaN NaN NaN NaN            NaN\n",
       "2   NaN NaN NaN NaN            NaN\n",
       "3   NaN NaN NaN NaN            NaN\n",
       "4   NaN NaN NaN NaN            NaN\n",
       "..   ..  ..  ..  ..            ...\n",
       "145 NaN NaN NaN NaN            NaN\n",
       "146 NaN NaN NaN NaN            NaN\n",
       "147 NaN NaN NaN NaN            NaN\n",
       "148 NaN NaN NaN NaN            NaN\n",
       "149 NaN NaN NaN NaN            NaN\n",
       "\n",
       "[150 rows x 5 columns]"
      ]
     },
     "execution_count": 23,
     "metadata": {},
     "output_type": "execute_result"
    }
   ],
   "source": [
    "# Checking the null values present in the dataset iris_data using .isna()\n",
    "iris_data[iris_data.isna()]"
   ]
  },
  {
   "cell_type": "markdown",
   "id": "a5339918",
   "metadata": {},
   "source": [
    "# 5. Perform meaningful visualizations using the dataset. Bring at least 3 visualizations."
   ]
  },
  {
   "cell_type": "markdown",
   "id": "0fb01e64",
   "metadata": {},
   "source": [
    "# Graph-1 : Distribution of sepal length vs sepal width"
   ]
  },
  {
   "cell_type": "code",
   "execution_count": 38,
   "id": "8dbf16f1",
   "metadata": {},
   "outputs": [
    {
     "data": {
      "text/plain": [
       "(array([ 0., 10., 20., 30., 40., 50., 60., 70., 80.]),\n",
       " [Text(0, 0, ''),\n",
       "  Text(0, 0, ''),\n",
       "  Text(0, 0, ''),\n",
       "  Text(0, 0, ''),\n",
       "  Text(0, 0, ''),\n",
       "  Text(0, 0, ''),\n",
       "  Text(0, 0, ''),\n",
       "  Text(0, 0, ''),\n",
       "  Text(0, 0, '')])"
      ]
     },
     "execution_count": 38,
     "metadata": {},
     "output_type": "execute_result"
    },
    {
     "data": {
      "text/plain": [
       "<Figure size 576x576 with 0 Axes>"
      ]
     },
     "metadata": {},
     "output_type": "display_data"
    },
    {
     "data": {
      "image/png": "[encoded data removed]",
      "text/plain": [
       "<Figure size 432x288 with 1 Axes>"
      ]
     },
     "metadata": {
      "needs_background": "light"
     },
     "output_type": "display_data"
    }
   ],
   "source": [
    "# Defining a plot space of 8x8\n",
    "plt.figure(figsize=(8,8))\n",
    "# Defining data to plot the Histogram along with visual enhancements (Color)\n",
    "iris_data[['SL','SW']].plot.hist()\n",
    "# Giving Histogram Title\n",
    "plt.title('Distribution of sepal length vs sepal width',fontsize=16)\n",
    "# Giving labels for X & Y axises\n",
    "plt.xlabel('Sepal length')\n",
    "plt.ylabel('Sepal width')\n",
    "# Giving markings in both axises\n",
    "plt.xticks()\n",
    "plt.yticks()"
   ]
  },
  {
   "cell_type": "markdown",
   "id": "ac09f31e",
   "metadata": {},
   "source": [
    "# Graph-2 : Distribution of petal length vs petal width"
   ]
  },
  {
   "cell_type": "code",
   "execution_count": 39,
   "id": "15def023",
   "metadata": {},
   "outputs": [
    {
     "data": {
      "text/plain": [
       "(array([-0.1,  0. ,  0.1,  0.2,  0.3,  0.4,  0.5,  0.6]),\n",
       " [Text(0, 0, ''),\n",
       "  Text(0, 0, ''),\n",
       "  Text(0, 0, ''),\n",
       "  Text(0, 0, ''),\n",
       "  Text(0, 0, ''),\n",
       "  Text(0, 0, ''),\n",
       "  Text(0, 0, ''),\n",
       "  Text(0, 0, '')])"
      ]
     },
     "execution_count": 39,
     "metadata": {},
     "output_type": "execute_result"
    },
    {
     "data": {
      "text/plain": [
       "<Figure size 576x576 with 0 Axes>"
      ]
     },
     "metadata": {},
     "output_type": "display_data"
    },
    {
     "data": {
      "image/png": "[encoded data removed]",
      "text/plain": [
       "<Figure size 432x288 with 1 Axes>"
      ]
     },
     "metadata": {
      "needs_background": "light"
     },
     "output_type": "display_data"
    }
   ],
   "source": [
    "# Defining a plot space of 8x8\n",
    "plt.figure(figsize=(8,8))\n",
    "# Defining data to kernal based density execution along with visual enhancements (Color)\n",
    "iris_data[['PL','PW']].plot.kde()\n",
    "# Giving kde Title\n",
    "plt.title('Distribution of petal length vs petal width',fontsize=16)\n",
    "# Giving labels for X & Y axises\n",
    "plt.xlabel('Petal length')\n",
    "plt.ylabel('Petal width')\n",
    "# Giving markings in both axises\n",
    "plt.xticks()\n",
    "plt.yticks()"
   ]
  },
  {
   "cell_type": "markdown",
   "id": "65e1ec2f",
   "metadata": {},
   "source": [
    "# Graph3 : Scatter plot"
   ]
  },
  {
   "cell_type": "code",
   "execution_count": 41,
   "id": "b0200825",
   "metadata": {},
   "outputs": [
    {
     "data": {
      "image/png": "[encoded data removed]",
      "text/plain": [
       "<Figure size 720x576 with 2 Axes>"
      ]
     },
     "metadata": {
      "needs_background": "light"
     },
     "output_type": "display_data"
    }
   ],
   "source": [
    "# Defining a plot space of 10x8\n",
    "plt.figure(figsize=(10,8))\n",
    "# Defining first subplot \n",
    "plt.subplot(2,1,1)\n",
    "# Defining data to plot the scatter along with visual enhancements (Color,size & shape of marker)\n",
    "plt.scatter(iris_data['SL'],iris_data['PL'],s=10,marker='^',c='green')\n",
    "# Giving Scatter plot Title\n",
    "plt.title('Scatter plot of sepal length vs petal length',fontsize=10)\n",
    "# Giving labels for X & Y axises\n",
    "plt.xlabel('Sepal length', fontsize=10)\n",
    "plt.ylabel('petal length', fontsize=10)\n",
    "# Defining second subplot \n",
    "plt.subplot(2,1,2)\n",
    "# Defining data to plot the scatter along with visual enhancements (Color,size & shape of marker)\n",
    "plt.scatter(iris_data['SW'],iris_data['PW'],s=10,marker='^',c='red')\n",
    "# Giving Scatter plot Title\n",
    "plt.title('Scatter plot of Sepal width vs petal width',fontsize=10)\n",
    "# Giving labels for X & Y axises\n",
    "plt.xlabel('Sepal width', fontsize=10)\n",
    "plt.ylabel('petal width', fontsize=10)\n",
    "#Define the layout\n",
    "plt.tight_layout()"
   ]
  },
  {
   "cell_type": "code",
   "execution_count": null,
   "id": "1952d576",
   "metadata": {},
   "outputs": [],
   "source": []
  }
 ],
 "metadata": {
  "kernelspec": {
   "display_name": "Python 3",
   "language": "python",
   "name": "python3"
  },
  "language_info": {
   "codemirror_mode": {
    "name": "ipython",
    "version": 3
   },
   "file_extension": ".py",
   "mimetype": "text/x-python",
   "name": "python",
   "nbconvert_exporter": "python",
   "pygments_lexer": "ipython3",
   "version": "3.8.8"
  }
 },
 "nbformat": 4,
 "nbformat_minor": 5
}
